{
 "cells": [
  {
   "cell_type": "code",
   "execution_count": null,
   "id": "da6539d4",
   "metadata": {},
   "outputs": [],
   "source": [
    "import pandas as pd\n",
    "import numpy as np\n",
    "import matplotlib.pyplot as plt\n",
    "import seaborn as sns\n",
    "from sklearn.linear_model import LinearRegression\n",
    "from sklearn.pipeline import Pipeline\n",
    "from sklearn.preprocessing import StandardScaler\n",
    "from sklearn.metrics import mean_absolute_error\n",
    "from sklearn.metrics import mean_squared_error\n",
    "from sklearn.model_selection import train_test_split"
   ]
  },
  {
   "cell_type": "code",
   "execution_count": null,
   "id": "1aa2c951",
   "metadata": {},
   "outputs": [],
   "source": [
    "STX_df= pd.read_csv(r'C:\\Users\\sagni\\Desktop\\ASSIGNMENT1 SNT\\STX.csv')\n",
    "WD_df = pd.read_csv(r'C:\\Users\\sagni\\Desktop\\ASSIGNMENT1 SNT\\WD.csv')\n",
    "UL_df = pd.read_csv(r'C:\\Users\\sagni\\Desktop\\ASSIGNMENT1 SNT\\UL.csv')"
   ]
  },
  {
   "cell_type": "code",
   "execution_count": null,
   "id": "8ec925ed",
   "metadata": {},
   "outputs": [],
   "source": [
    "plt.plot(STX_df['Date'],STX_df['Adj Close'])"
   ]
  },
  {
   "cell_type": "code",
   "execution_count": null,
   "id": "f43dc2c3",
   "metadata": {},
   "outputs": [],
   "source": [
    "plt.plot(UL_df['Date'],UL_df['Adj Close'])"
   ]
  },
  {
   "cell_type": "code",
   "execution_count": null,
   "id": "a343849d",
   "metadata": {},
   "outputs": [],
   "source": [
    "plt.plot(WD_df['Date'],WD_df['Adj Close'])"
   ]
  },
  {
   "cell_type": "code",
   "execution_count": null,
   "id": "8d3f6a8b",
   "metadata": {},
   "outputs": [],
   "source": [
    "def drop_date(df):\n",
    "    df.drop(['Date'],axis=1,inplace=True)"
   ]
  },
  {
   "cell_type": "code",
   "execution_count": null,
   "id": "187693ac",
   "metadata": {},
   "outputs": [],
   "source": [
    "STX_df1 = drop_date(STX_df)\n",
    "WD_df1 = drop_date(WD_df)\n",
    "UL_df1 = drop_date(UL_df)"
   ]
  },
  {
   "cell_type": "code",
   "execution_count": null,
   "id": "30590b7a",
   "metadata": {},
   "outputs": [],
   "source": [
    "def transform_into_x_and_y(df):\n",
    "    X = df.drop(['Adj Close'],axis= 1)\n",
    "    y = df['Adj Close']\n",
    "    return X,y"
   ]
  },
  {
   "cell_type": "code",
   "execution_count": null,
   "id": "d851362b",
   "metadata": {},
   "outputs": [],
   "source": [
    "STX_X,STX_y = transform_into_x_and_y(STX_df)\n",
    "WD_X,WD_y = transform_into_x_and_y(WD_df)\n",
    "UL_X,UL_y = transform_into_x_and_y(UL_df)"
   ]
  },
  {
   "cell_type": "code",
   "execution_count": null,
   "id": "a4536cfd",
   "metadata": {},
   "outputs": [],
   "source": [
    "len(UL_X)"
   ]
  },
  {
   "cell_type": "code",
   "execution_count": null,
   "id": "61bc868b",
   "metadata": {},
   "outputs": [],
   "source": [
    "def split_data(X,y,percent):\n",
    "    xtrain = X[:int(X.shape[0]*percent)]\n",
    "    xtest = X[int(X.shape[0]*percent):]\n",
    "    ytrain = y[:int(X.shape[0]*percent)]\n",
    "\n",
    "    ytest = y[int(X.shape[0]*percent):]\n",
    "    return xtrain,xtest,ytrain,ytest"
   ]
  },
  {
   "cell_type": "code",
   "execution_count": null,
   "id": "2d5ab4b9",
   "metadata": {},
   "outputs": [],
   "source": [
    "STX_xtrain,STX_xtest,STX_ytrain,STX_ytest = split_data(STX_X,STX_y,0.8)"
   ]
  },
  {
   "cell_type": "code",
   "execution_count": null,
   "id": "1b911a6a",
   "metadata": {},
   "outputs": [],
   "source": [
    "UL_xtrain,UL_xtest,UL_ytrain,UL_ytest = split_data(UL_X,UL_y,0.8)"
   ]
  },
  {
   "cell_type": "code",
   "execution_count": null,
   "id": "7ff5ca54",
   "metadata": {},
   "outputs": [],
   "source": [
    "WD_xtrain,WD_xtest,WD_ytrain,WD_ytest = split_data(WD_X,WD_y,0.8)"
   ]
  },
  {
   "cell_type": "markdown",
   "id": "cd5a1d9d",
   "metadata": {},
   "source": [
    "# LINEAR REGRESSION"
   ]
  },
  {
   "cell_type": "code",
   "execution_count": null,
   "id": "6d163fa5",
   "metadata": {},
   "outputs": [],
   "source": [
    "from sklearn.linear_model import LinearRegression\n",
    "from sklearn.pipeline import Pipeline\n",
    "from sklearn.preprocessing import StandardScaler"
   ]
  },
  {
   "cell_type": "code",
   "execution_count": null,
   "id": "cb6d01bd",
   "metadata": {},
   "outputs": [],
   "source": [
    "def pipeline_for_linear_model(xtrain,ytrain,model):\n",
    "    pipe = Pipeline(steps=[('sscaler',StandardScaler()),('model',model)])\n",
    "    df_pipe = pipe.fit(xtrain,ytrain)\n",
    "    return df_pipe"
   ]
  },
  {
   "cell_type": "code",
   "execution_count": null,
   "id": "20c87b19",
   "metadata": {},
   "outputs": [],
   "source": [
    "STX_pipe_linear = pipeline_for_linear_model(STX_xtrain,STX_ytrain,LinearRegression())\n",
    "WD_pipe_linear = pipeline_for_linear_model(WD_xtrain,WD_ytrain,LinearRegression())\n",
    "UL_pipe_linear = pipeline_for_linear_model(UL_xtrain,UL_ytrain,LinearRegression())"
   ]
  },
  {
   "cell_type": "markdown",
   "id": "1c062504",
   "metadata": {},
   "source": [
    "# MAE,MSE,RMSE"
   ]
  },
  {
   "cell_type": "code",
   "execution_count": null,
   "id": "336e05f8",
   "metadata": {},
   "outputs": [],
   "source": [
    "from sklearn.metrics import mean_absolute_error\n",
    "from sklearn.metrics import mean_squared_error"
   ]
  },
  {
   "cell_type": "code",
   "execution_count": null,
   "id": "fb5190a4",
   "metadata": {},
   "outputs": [],
   "source": [
    "def errors(df_pipe,xtest,ytest):\n",
    "    ypredict = df_pipe.predict(xtest)\n",
    "    print('MAE score is ',mean_absolute_error(ytest,ypredict))\n",
    "    print('MSE score is ',mean_squared_error(ytest,ypredict))\n",
    "    print('RMSE score is ',np.sqrt(mean_squared_error(ytest,ypredict)))\n",
    "    print('R2 score is ',df_pipe.score(xtest,ytest))"
   ]
  },
  {
   "cell_type": "code",
   "execution_count": null,
   "id": "2aadde4d",
   "metadata": {},
   "outputs": [],
   "source": [
    "print('Error in model of STX')\n",
    "errors(STX_pipe_linear,STX_xtest,STX_ytest)"
   ]
  },
  {
   "cell_type": "code",
   "execution_count": null,
   "id": "1626327c",
   "metadata": {},
   "outputs": [],
   "source": [
    "print('Error in model of WD')\n",
    "errors(WD_pipe_linear,WD_xtest,WD_ytest)"
   ]
  },
  {
   "cell_type": "code",
   "execution_count": null,
   "id": "5737d2e2",
   "metadata": {},
   "outputs": [],
   "source": [
    "print('Error in model of UL')\n",
    "errors(UL_pipe_linear,UL_xtest,UL_ytest)"
   ]
  },
  {
   "cell_type": "markdown",
   "id": "33c81340",
   "metadata": {},
   "source": [
    "# SVC"
   ]
  },
  {
   "cell_type": "code",
   "execution_count": null,
   "id": "5bb283ee",
   "metadata": {},
   "outputs": [],
   "source": [
    "from sklearn.svm import SVR\n",
    "from sklearn.model_selection import GridSearchCV"
   ]
  },
  {
   "cell_type": "code",
   "execution_count": null,
   "id": "542a7589",
   "metadata": {},
   "outputs": [],
   "source": [
    "STX_pipe_svr = pipeline_for_linear_model(STX_xtrain,STX_ytrain,SVR())\n",
    "WD_pipe_svr = pipeline_for_linear_model(WD_xtrain,WD_ytrain,SVR())\n",
    "UL_pipe_svr = pipeline_for_linear_model(UL_xtrain,UL_ytrain,SVR())"
   ]
  },
  {
   "cell_type": "code",
   "execution_count": null,
   "id": "630bddc2",
   "metadata": {},
   "outputs": [],
   "source": [
    "errors(STX_pipe_svr,STX_xtest,STX_ytest)"
   ]
  },
  {
   "cell_type": "code",
   "execution_count": null,
   "id": "3dcacb2e",
   "metadata": {},
   "outputs": [],
   "source": [
    "errors(WD_pipe_svr,WD_xtest,WD_ytest)"
   ]
  },
  {
   "cell_type": "code",
   "execution_count": null,
   "id": "15535fea",
   "metadata": {},
   "outputs": [],
   "source": [
    "errors(UL_pipe_svr,UL_xtest,UL_ytest)"
   ]
  },
  {
   "cell_type": "markdown",
   "id": "7917a907",
   "metadata": {},
   "source": [
    "# DECISION TREE REGRESSOR"
   ]
  },
  {
   "cell_type": "code",
   "execution_count": null,
   "id": "dca082a9",
   "metadata": {},
   "outputs": [],
   "source": [
    "from sklearn.tree import DecisionTreeRegressor"
   ]
  },
  {
   "cell_type": "code",
   "execution_count": null,
   "id": "39b8bc8f",
   "metadata": {},
   "outputs": [],
   "source": [
    "param_grid1 = {'max_depth':[50,100,150,200,250],'max_leaf_nodes':[10,20,30,40,50]}"
   ]
  },
  {
   "cell_type": "code",
   "execution_count": null,
   "id": "3af6134d",
   "metadata": {},
   "outputs": [],
   "source": [
    "def model_with_grid(pipe,xtrain,ytrain,param_grid1):\n",
    "    grid = GridSearchCV(pipe,param_grid=param_grid1,cv=5)\n",
    "    grid.fit(xtrain,ytrain)\n",
    "    return grid"
   ]
  },
  {
   "cell_type": "code",
   "execution_count": null,
   "id": "e7afea8c",
   "metadata": {},
   "outputs": [],
   "source": [
    "STX_grid_dtr = model_with_grid(DecisionTreeRegressor(random_state=0),STX_xtrain,STX_ytrain,param_grid1)\n",
    "errors(STX_grid_dtr,STX_xtest,STX_ytest)"
   ]
  },
  {
   "cell_type": "code",
   "execution_count": null,
   "id": "ab8b79b3",
   "metadata": {},
   "outputs": [],
   "source": [
    "UL_grid_dtr = model_with_grid(DecisionTreeRegressor(random_state=0),UL_xtrain,UL_ytrain,param_grid1)\n",
    "errors(UL_grid_dtr,UL_xtest,UL_ytest)"
   ]
  },
  {
   "cell_type": "code",
   "execution_count": null,
   "id": "d99770a8",
   "metadata": {},
   "outputs": [],
   "source": [
    "WD_grid_dtr = model_with_grid(DecisionTreeRegressor(random_state=0),WD_xtrain,WD_ytrain,param_grid1)\n",
    "errors(WD_grid_dtr,WD_xtest,WD_ytest)"
   ]
  },
  {
   "cell_type": "markdown",
   "id": "91135139",
   "metadata": {},
   "source": [
    "# ELASTIC NET"
   ]
  },
  {
   "cell_type": "code",
   "execution_count": null,
   "id": "67ced956",
   "metadata": {},
   "outputs": [],
   "source": [
    "from sklearn.linear_model import ElasticNet"
   ]
  },
  {
   "cell_type": "code",
   "execution_count": null,
   "id": "0774e31c",
   "metadata": {},
   "outputs": [],
   "source": [
    "grid_elasticnet = {'elastic__alpha':[0.1,0.5,1,5,10],'elastic__l1_ratio' : [0.1,0.25,0.5,0.75,0.9]}"
   ]
  },
  {
   "cell_type": "code",
   "execution_count": null,
   "id": "b0ef1694",
   "metadata": {},
   "outputs": [],
   "source": [
    "STX_elastic = model_with_grid(Pipeline(steps=[('scaler',StandardScaler()),('elastic',ElasticNet())]),STX_xtrain,STX_ytrain,grid_elasticnet)\n",
    "errors(STX_elastic,STX_xtest,STX_ytest)"
   ]
  },
  {
   "cell_type": "code",
   "execution_count": null,
   "id": "b81f22c8",
   "metadata": {},
   "outputs": [],
   "source": [
    "UL_elastic = model_with_grid(Pipeline(steps=[('scaler',StandardScaler()),('elastic',ElasticNet())]),UL_xtrain,UL_ytrain,grid_elasticnet)\n",
    "errors(UL_elastic,UL_xtest,UL_ytest)"
   ]
  },
  {
   "cell_type": "code",
   "execution_count": null,
   "id": "0902a4fd",
   "metadata": {},
   "outputs": [],
   "source": [
    "WD_elastic = model_with_grid(Pipeline(steps=[('scaler',StandardScaler()),('elastic',ElasticNet())]),WD_xtrain,WD_ytrain,grid_elasticnet)\n",
    "errors(WD_elastic,WD_xtest,WD_ytest)"
   ]
  },
  {
   "cell_type": "markdown",
   "id": "b3c39f60",
   "metadata": {},
   "source": [
    "# K-NEAREST NEIGHBOUR REGRESSOR"
   ]
  },
  {
   "cell_type": "code",
   "execution_count": null,
   "id": "eb8a4d40",
   "metadata": {},
   "outputs": [],
   "source": [
    "from sklearn.neighbors import KNeighborsRegressor"
   ]
  },
  {
   "cell_type": "code",
   "execution_count": null,
   "id": "4dd05a04",
   "metadata": {},
   "outputs": [],
   "source": [
    "grid_neighbor = {'n_neighbors':[3,5,7,10,12,15]}"
   ]
  },
  {
   "cell_type": "code",
   "execution_count": null,
   "id": "21bbddcc",
   "metadata": {},
   "outputs": [],
   "source": [
    "STX_Kneighbors = model_with_grid(KNeighborsRegressor(),STX_xtrain,STX_ytrain,grid_neighbor)\n",
    "errors(STX_Kneighbors,STX_xtest,STX_ytest)"
   ]
  },
  {
   "cell_type": "code",
   "execution_count": null,
   "id": "5165bb7e",
   "metadata": {},
   "outputs": [],
   "source": [
    "UL_Kneighbors = model_with_grid(KNeighborsRegressor(),UL_xtrain,UL_ytrain,grid_neighbor)\n",
    "errors(UL_Kneighbors,UL_xtest,UL_ytest)"
   ]
  },
  {
   "cell_type": "code",
   "execution_count": null,
   "id": "67ac32cf",
   "metadata": {},
   "outputs": [],
   "source": [
    "WD_Kneighbors = model_with_grid(KNeighborsRegressor(),WD_xtrain,WD_ytrain,grid_neighbor)\n",
    "errors(WD_Kneighbors,WD_xtest,UL_ytest)"
   ]
  }
 ],
 "metadata": {
  "kernelspec": {
   "display_name": "Python 3",
   "language": "python",
   "name": "python3"
  },
  "language_info": {
   "codemirror_mode": {
    "name": "ipython",
    "version": 3
   },
   "file_extension": ".py",
   "mimetype": "text/x-python",
   "name": "python",
   "nbconvert_exporter": "python",
   "pygments_lexer": "ipython3",
   "version": "3.8.8"
  }
 },
 "nbformat": 4,
 "nbformat_minor": 5
}
